{
 "cells": [
  {
   "cell_type": "code",
   "execution_count": 13,
   "metadata": {},
   "outputs": [],
   "source": [
    "import open3d as o3d\n",
    "import numpy as np\n",
    "import os\n",
    "from tqdm import tqdm\n",
    "#import tensorflow as tf\n",
    "import random\n",
    "import matplotlib.pyplot as plt"
   ]
  },
  {
   "attachments": {},
   "cell_type": "markdown",
   "metadata": {},
   "source": [
    "## Fix your path here"
   ]
  },
  {
   "cell_type": "code",
   "execution_count": 14,
   "metadata": {},
   "outputs": [],
   "source": [
    "filepath = [\"data/female\", \"data/male\"]"
   ]
  },
  {
   "cell_type": "code",
   "execution_count": 15,
   "metadata": {},
   "outputs": [],
   "source": [
    "# data_paths = filepath\n",
    "\n",
    "# N = 5\n",
    "\n",
    "# pcds_females = []\n",
    "# pcds_males = []\n",
    "# pcds = [pcds_females, pcds_males]\n",
    "\n",
    "# for data in range(len(data_paths)):\n",
    "#     files = []\n",
    "#     folder_to_view = data_paths[data]\n",
    "\n",
    "#     list = pcds[data]\n",
    "#     for file in os.listdir(folder_to_view):\n",
    "#         files.append(file)\n",
    "#     for i in tqdm(range(N)):\n",
    "#         file = (folder_to_view + \"/\" + str(files[i]))\n",
    "#         mesh = o3d.io.read_triangle_mesh(file)\n",
    "#         vertices = np.asarray(mesh.vertices)\n",
    "#         center = vertices.mean(axis=0)\n",
    "#         vertices -= center\n",
    "#         mesh.vertices = o3d.utility.Vector3dVector(vertices)\n",
    "#         mesh.get_center()\n",
    "#         pcd = mesh.sample_points_uniformly(2048)\n",
    "#         #pcd = pcd.voxel_down_sample(voxel_size=0.5)\n",
    "#         list.append(pcd)"
   ]
  },
  {
   "cell_type": "code",
   "execution_count": 16,
   "metadata": {},
   "outputs": [],
   "source": [
    "def Load_data(filepath, N): \n",
    "    # function takes filepath to data folder, and number of objects we want to load\n",
    "    pcds_females = []\n",
    "    pcds_males = []\n",
    "    pcds = [pcds_males, pcds_females]\n",
    "    for folder in range(len(filepath)):\n",
    "        objects = []\n",
    "        folder_to_view = filepath[folder]\n",
    "        for object in os.listdir(folder_to_view):\n",
    "            objects.append(object) #appends all objects to either female or male folder\n",
    "        for i in tqdm(range(N)):\n",
    "            file = (folder_to_view + \"/\" + str(objects[i])) #iterates over each object\n",
    "\n",
    "            mesh = o3d.io.read_triangle_mesh(file) #load each object as mesh\n",
    "            #cetralises each mesh object\n",
    "            vertices = np.asarray(mesh.vertices)\n",
    "            center = vertices.mean(axis=0)\n",
    "            vertices -= center\n",
    "            mesh.vertices = o3d.utility.Vector3dVector(vertices)\n",
    "\n",
    "            #converts mesh to pcd and downsamples to 2048 points\n",
    "            pcd = mesh.sample_points_uniformly(2048)\n",
    "\n",
    "            pcds[folder].append(pcd)\n",
    "\n",
    "    return pcds_females, pcds_males, pcds"
   ]
  },
  {
   "attachments": {},
   "cell_type": "markdown",
   "metadata": {},
   "source": [
    "### Normals"
   ]
  },
  {
   "cell_type": "code",
   "execution_count": 17,
   "metadata": {},
   "outputs": [
    {
     "name": "stderr",
     "output_type": "stream",
     "text": [
      "100%|██████████| 5/5 [00:00<00:00, 21.27it/s]\n",
      "100%|██████████| 5/5 [00:00<00:00, 21.61it/s]\n"
     ]
    }
   ],
   "source": [
    "pcds_females, pcds_males, pcds = Load_data(filepath=filepath, N = 5)"
   ]
  },
  {
   "cell_type": "code",
   "execution_count": 25,
   "metadata": {},
   "outputs": [
    {
     "data": {
      "text/plain": [
       "(2048, 3)"
      ]
     },
     "execution_count": 25,
     "metadata": {},
     "output_type": "execute_result"
    }
   ],
   "source": [
    "def Get_normals(pcds_females): \n",
    "    normals = []\n",
    "    for i in range(len(pcds_females)):\n",
    "        normals.append(np.asarray(pcds_females[i].normals))\n",
    "    return normals\n",
    "normalerne = Get_normals(pcds_females)\n",
    "\n",
    "np.shape(normalerne[0])"
   ]
  },
  {
   "attachments": {},
   "cell_type": "markdown",
   "metadata": {},
   "source": [
    "### Convert to numpy array"
   ]
  },
  {
   "cell_type": "code",
   "execution_count": 19,
   "metadata": {},
   "outputs": [
    {
     "name": "stderr",
     "output_type": "stream",
     "text": [
      "100%|██████████| 5/5 [00:00<00:00, 45990.18it/s]\n",
      "100%|██████████| 5/5 [00:00<00:00, 50901.75it/s]\n"
     ]
    }
   ],
   "source": [
    "pcds_females_arr = []\n",
    "pcds_males_arr = []\n",
    "pcds_arr = [pcds_females_arr, pcds_males_arr]\n",
    "\n",
    "\n",
    "for points in range(len(pcds)): \n",
    "    for i in tqdm(range(len(pcds_females))):\n",
    "        pcds_arr[points].append(np.asarray(pcds[points][i].points) )\n",
    "\n"
   ]
  },
  {
   "cell_type": "code",
   "execution_count": 20,
   "metadata": {},
   "outputs": [
    {
     "data": {
      "text/plain": [
       "0.9917156764167008"
      ]
     },
     "execution_count": 20,
     "metadata": {},
     "output_type": "execute_result"
    }
   ],
   "source": [
    "furthest_distance = 0\n",
    "\n",
    "for points in range(len(pcds_arr)): \n",
    "    for i in range(len(pcds_males_arr)):\n",
    "        distance = np.max(np.sqrt(np.sum(abs(pcds_arr[points][i])**2,axis=1)))\n",
    "        if distance > furthest_distance:\n",
    "            furthest_distance = distance\n",
    "            \n",
    "furthest_distance"
   ]
  },
  {
   "attachments": {},
   "cell_type": "markdown",
   "metadata": {},
   "source": [
    "### Normalize (Update to normalize in regards to biggest person)"
   ]
  },
  {
   "cell_type": "code",
   "execution_count": 21,
   "metadata": {},
   "outputs": [
    {
     "name": "stderr",
     "output_type": "stream",
     "text": [
      "100%|██████████| 5/5 [00:00<00:00, 4245.25it/s]\n",
      "100%|██████████| 5/5 [00:00<00:00, 10485.76it/s]\n"
     ]
    }
   ],
   "source": [
    "def normalize(points): # The input of this function is a point cloud object\n",
    "    # This function normalizes a point cloud within a unit sphere\n",
    "    points = np.asarray(points.points) \n",
    "    centroid = np.mean(points, axis=0)\n",
    "    points -= centroid\n",
    "    points / furthest_distance\n",
    "    return points # The function return a numpy array of dimension nx3 where the points are normalized within a unit sphere\n",
    "\n",
    "pcds_females_arr_norm = []\n",
    "pcds_males_arr_norm = []\n",
    "pcds_arr_norm = [pcds_females_arr_norm, pcds_males_arr_norm]\n",
    "\n",
    "\n",
    "for points in range(len(pcds_arr)):\n",
    "    for i in tqdm(range(len(pcds_females))):\n",
    "        pcds_arr_norm[points].append(normalize(pcds[points][i]))"
   ]
  },
  {
   "cell_type": "code",
   "execution_count": 22,
   "metadata": {},
   "outputs": [
    {
     "data": {
      "text/plain": [
       "0.9794300626674091"
      ]
     },
     "execution_count": 22,
     "metadata": {},
     "output_type": "execute_result"
    }
   ],
   "source": [
    "furthest_distance = 0\n",
    "\n",
    "for points in range(len(pcds_arr_norm)): \n",
    "    for i in range(len(pcds_males_arr)):\n",
    "        distance = np.max(np.sqrt(np.sum(abs(pcds_arr_norm[points][i])**2,axis=1)))\n",
    "        if distance > furthest_distance:\n",
    "            furthest_distance = distance\n",
    "            \n",
    "furthest_distance"
   ]
  },
  {
   "attachments": {},
   "cell_type": "markdown",
   "metadata": {},
   "source": [
    "# Centraliser"
   ]
  },
  {
   "cell_type": "code",
   "execution_count": null,
   "metadata": {},
   "outputs": [],
   "source": []
  },
  {
   "attachments": {},
   "cell_type": "markdown",
   "metadata": {},
   "source": [
    "# Augmentation"
   ]
  },
  {
   "attachments": {},
   "cell_type": "markdown",
   "metadata": {},
   "source": [
    "### Rotation"
   ]
  },
  {
   "cell_type": "code",
   "execution_count": 23,
   "metadata": {},
   "outputs": [],
   "source": [
    "test_person = pcds_females[2]"
   ]
  },
  {
   "cell_type": "code",
   "execution_count": 24,
   "metadata": {},
   "outputs": [
    {
     "ename": "NameError",
     "evalue": "name 'mesh' is not defined",
     "output_type": "error",
     "traceback": [
      "\u001b[0;31m---------------------------------------------------------------------------\u001b[0m",
      "\u001b[0;31mNameError\u001b[0m                                 Traceback (most recent call last)",
      "Cell \u001b[0;32mIn[24], line 11\u001b[0m\n\u001b[1;32m      7\u001b[0m angle \u001b[39m=\u001b[39m np\u001b[39m.\u001b[39mrandom\u001b[39m.\u001b[39muniform(\u001b[39m-\u001b[39mmax_angle, max_angle) \u001b[39m*\u001b[39m np\u001b[39m.\u001b[39mpi \u001b[39m/\u001b[39m \u001b[39m180\u001b[39m  \u001b[39m# convert degrees to radians\u001b[39;00m\n\u001b[1;32m      9\u001b[0m \u001b[39m# Create the rotation matrix using Open3D's utility function\u001b[39;00m\n\u001b[1;32m     10\u001b[0m \u001b[39m#rot_matrix = o3d.geometry.get_rotation_matrix_from_axis_angle(axis, angle)\u001b[39;00m\n\u001b[0;32m---> 11\u001b[0m R \u001b[39m=\u001b[39m mesh\u001b[39m.\u001b[39mget_rotation_matrix_from_xyz((np\u001b[39m.\u001b[39mpi \u001b[39m/\u001b[39m \u001b[39m2\u001b[39m, np\u001b[39m.\u001b[39mpi \u001b[39m/\u001b[39m \u001b[39m2\u001b[39m, np\u001b[39m.\u001b[39mpi \u001b[39m/\u001b[39m \u001b[39m2\u001b[39m))\n\u001b[1;32m     14\u001b[0m \u001b[39m# Apply the rotation to the point cloud using Open3D's built-in transform function\u001b[39;00m\n\u001b[1;32m     15\u001b[0m test_rotate \u001b[39m=\u001b[39m test_person\u001b[39m.\u001b[39mrotate(R)\n",
      "\u001b[0;31mNameError\u001b[0m: name 'mesh' is not defined"
     ]
    }
   ],
   "source": [
    "# Define the maximum angle in degrees for the random rotation\n",
    "max_angle = 45\n",
    "\n",
    "# Generate a random rotation axis and angle\n",
    "axis = np.random.uniform(-1, 1, 3)\n",
    "axis /= np.linalg.norm(axis)\n",
    "angle = np.random.uniform(-max_angle, max_angle) * np.pi / 180  # convert degrees to radians\n",
    "\n",
    "# Create the rotation matrix using Open3D's utility function\n",
    "#rot_matrix = o3d.geometry.get_rotation_matrix_from_axis_angle(axis, angle)\n",
    "R = mesh.get_rotation_matrix_from_xyz((np.pi / 2, np.pi / 2, np.pi / 2))\n",
    "\n",
    "\n",
    "# Apply the rotation to the point cloud using Open3D's built-in transform function\n",
    "test_rotate = test_person.rotate(R)"
   ]
  },
  {
   "attachments": {},
   "cell_type": "markdown",
   "metadata": {},
   "source": [
    "### To visualise point cloud"
   ]
  },
  {
   "cell_type": "code",
   "execution_count": null,
   "metadata": {},
   "outputs": [],
   "source": [
    "#o3d.visualization.draw_geometries([test_person,pcds_males[2]])"
   ]
  }
 ],
 "metadata": {
  "kernelspec": {
   "display_name": "Python 3 (ipykernel)",
   "language": "python",
   "name": "python3"
  },
  "language_info": {
   "codemirror_mode": {
    "name": "ipython",
    "version": 3
   },
   "file_extension": ".py",
   "mimetype": "text/x-python",
   "name": "python",
   "nbconvert_exporter": "python",
   "pygments_lexer": "ipython3",
   "version": "3.10.9"
  },
  "vscode": {
   "interpreter": {
    "hash": "519c1f0673ba03a526f963f95f3579972f1ff9821eebfa23d7bc8438f630eba8"
   }
  }
 },
 "nbformat": 4,
 "nbformat_minor": 2
}
