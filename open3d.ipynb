{
 "cells": [
  {
   "cell_type": "code",
   "execution_count": 17,
   "metadata": {},
   "outputs": [],
   "source": [
    "import open3d as o3d\n",
    "import numpy as np\n",
    "import os\n",
    "from tqdm import tqdm\n",
    "#import tensorflow as tf\n",
    "import random\n",
    "import matplotlib.pyplot as plt"
   ]
  },
  {
   "attachments": {},
   "cell_type": "markdown",
   "metadata": {},
   "source": [
    "## Fix your path here"
   ]
  },
  {
   "cell_type": "code",
   "execution_count": 18,
   "metadata": {},
   "outputs": [],
   "source": [
    "filepath = [\"data/female\", \"data/male\"]"
   ]
  },
  {
   "cell_type": "code",
   "execution_count": 19,
   "metadata": {},
   "outputs": [
    {
     "name": "stderr",
     "output_type": "stream",
     "text": [
      "100%|██████████| 5/5 [00:00<00:00, 21.57it/s]\n",
      "100%|██████████| 5/5 [00:00<00:00, 21.65it/s]\n"
     ]
    }
   ],
   "source": [
    "data_paths = filepath\n",
    "\n",
    "N = 5\n",
    "\n",
    "pcds_females = []\n",
    "pcds_males = []\n",
    "pcds = [pcds_females, pcds_males]\n",
    "\n",
    "\n",
    "for data in range(len(data_paths)):\n",
    "    files = []\n",
    "    folder_to_view = data_paths[data]\n",
    "    list = pcds[data]\n",
    "    for file in os.listdir(folder_to_view):\n",
    "        files.append(file)\n",
    "    for i in tqdm(range(N)):\n",
    "        file = (folder_to_view + \"/\" + str(files[i]))\n",
    "        mesh = o3d.io.read_triangle_mesh(file)\n",
    "        vertices = np.asarray(mesh.vertices)\n",
    "        center = vertices.mean(axis=0)\n",
    "        vertices -= center\n",
    "        mesh.vertices = o3d.utility.Vector3dVector(vertices)\n",
    "        mesh.get_center()\n",
    "        pcd = mesh.sample_points_uniformly(2048)\n",
    "        #pcd = pcd.voxel_down_sample(voxel_size=0.5)\n",
    "        list.append(pcd)"
   ]
  },
  {
   "cell_type": "code",
   "execution_count": 20,
   "metadata": {},
   "outputs": [],
   "source": [
    "def Load_data(filepath, N): \n",
    "    # function takes filepath to data folder, and number of objects we want to load\n",
    "    pcds_females = []\n",
    "    pcds_males = []\n",
    "    pcds = [pcds_females, pcds_males]\n",
    "    for folder in range(len(filepath)):\n",
    "        objects = []\n",
    "        folder_to_view = filepath[folder]\n",
    "        list = pcds[folder]\n",
    "        for object in os.listdir(folder_to_view):\n",
    "            objects.append(object) #appends all objects to either female or male folder\n",
    "        for i in tqdm(range(N)):\n",
    "            file = (folder_to_view + \"/\" + str(files[i])) #iterates over each object\n",
    "            mesh = o3d.io.read_triangle_mesh(file) #load each object as mesh\n",
    "\n",
    "            #cetralises each mesh object\n",
    "            vertices = np.asarray(mesh.vertices)\n",
    "            center = vertices.mean(axis=0)\n",
    "            vertices -= center\n",
    "            mesh.vertices = o3d.utility.Vector3dVector(vertices)\n",
    "\n",
    "            #converts mesh to pcd and downsamples to 2048 points\n",
    "            pcd = mesh.sample_points_uniformly(2048)\n",
    "\n",
    "            list.append(pcd)\n",
    "\n",
    "    return pcds_females, pcds_males, pcds\n"
   ]
  },
  {
   "cell_type": "code",
   "execution_count": 21,
   "metadata": {},
   "outputs": [
    {
     "name": "stderr",
     "output_type": "stream",
     "text": [
      "  0%|          | 0/5 [00:00<?, ?it/s]/var/folders/2q/fq4zt8r176583r4v4jy_hxgh0000gn/T/ipykernel_83921/3799821431.py:18: RuntimeWarning: Mean of empty slice.\n",
      "  center = vertices.mean(axis=0)\n",
      "  0%|          | 0/5 [00:00<?, ?it/s]"
     ]
    },
    {
     "name": "stdout",
     "output_type": "stream",
     "text": [
      "\u001b[1;33m[Open3D WARNING] Unable to load file data/female/SPRING2729.obj with ASSIMP\u001b[0;m\n"
     ]
    },
    {
     "name": "stderr",
     "output_type": "stream",
     "text": [
      "\n"
     ]
    },
    {
     "ename": "RuntimeError",
     "evalue": "\u001b[1;31m[Open3D Error] (std::shared_ptr<PointCloud> open3d::geometry::TriangleMesh::SamplePointsUniformly(size_t, bool)) /Users/runner/work/Open3D/Open3D/cpp/open3d/geometry/TriangleMesh.cpp:526: Input mesh has no triangles.\n\u001b[0;m",
     "output_type": "error",
     "traceback": [
      "\u001b[0;31m---------------------------------------------------------------------------\u001b[0m",
      "\u001b[0;31mRuntimeError\u001b[0m                              Traceback (most recent call last)",
      "Cell \u001b[0;32mIn[21], line 1\u001b[0m\n\u001b[0;32m----> 1\u001b[0m Load_data(filepath,\u001b[39m5\u001b[39;49m)\n",
      "Cell \u001b[0;32mIn[20], line 23\u001b[0m, in \u001b[0;36mLoad_data\u001b[0;34m(filepath, N)\u001b[0m\n\u001b[1;32m     20\u001b[0m         mesh\u001b[39m.\u001b[39mvertices \u001b[39m=\u001b[39m o3d\u001b[39m.\u001b[39mutility\u001b[39m.\u001b[39mVector3dVector(vertices)\n\u001b[1;32m     22\u001b[0m         \u001b[39m#converts mesh to pcd and downsamples to 2048 points\u001b[39;00m\n\u001b[0;32m---> 23\u001b[0m         pcd \u001b[39m=\u001b[39m mesh\u001b[39m.\u001b[39;49msample_points_uniformly(\u001b[39m2048\u001b[39;49m)\n\u001b[1;32m     25\u001b[0m         \u001b[39mlist\u001b[39m\u001b[39m.\u001b[39mappend(pcd)\n\u001b[1;32m     27\u001b[0m \u001b[39mreturn\u001b[39;00m pcds_females, pcds_males, pcds\n",
      "\u001b[0;31mRuntimeError\u001b[0m: \u001b[1;31m[Open3D Error] (std::shared_ptr<PointCloud> open3d::geometry::TriangleMesh::SamplePointsUniformly(size_t, bool)) /Users/runner/work/Open3D/Open3D/cpp/open3d/geometry/TriangleMesh.cpp:526: Input mesh has no triangles.\n\u001b[0;m"
     ]
    }
   ],
   "source": [
    "Load_data(filepath,5)"
   ]
  },
  {
   "attachments": {},
   "cell_type": "markdown",
   "metadata": {},
   "source": [
    "### Normals"
   ]
  },
  {
   "cell_type": "code",
   "execution_count": null,
   "metadata": {},
   "outputs": [],
   "source": [
    "def Get_normals(pcds_females): \n",
    "    normals = []\n",
    "    for i in range(len(pcds_females)):\n",
    "        normals.append(np.asarray(pcds_females[i].normals))\n",
    "    return normals"
   ]
  },
  {
   "cell_type": "code",
   "execution_count": null,
   "metadata": {},
   "outputs": [
    {
     "data": {
      "text/plain": [
       "(2048, 3)"
      ]
     },
     "execution_count": 6,
     "metadata": {},
     "output_type": "execute_result"
    }
   ],
   "source": [
    "normalerne = Get_normals(pcds_females)\n",
    "\n",
    "np.shape(normalerne[0])"
   ]
  },
  {
   "attachments": {},
   "cell_type": "markdown",
   "metadata": {},
   "source": [
    "### Convert to numpy array"
   ]
  },
  {
   "cell_type": "code",
   "execution_count": null,
   "metadata": {},
   "outputs": [
    {
     "name": "stderr",
     "output_type": "stream",
     "text": [
      "100%|██████████| 5/5 [00:00<00:00, 4336.54it/s]\n",
      "100%|██████████| 5/5 [00:00<00:00, 20400.31it/s]\n"
     ]
    }
   ],
   "source": [
    "pcds_females_arr = []\n",
    "pcds_males_arr = []\n",
    "pcds_arr = [pcds_females_arr, pcds_males_arr]\n",
    "\n",
    "\n",
    "for points in range(len(pcds)): \n",
    "    for i in tqdm(range(len(pcds_females))):\n",
    "        pcds_arr[points].append(np.asarray(pcds[points][i].points) )\n",
    "\n"
   ]
  },
  {
   "cell_type": "code",
   "execution_count": null,
   "metadata": {},
   "outputs": [
    {
     "data": {
      "text/plain": [
       "0.9930639752838083"
      ]
     },
     "execution_count": 7,
     "metadata": {},
     "output_type": "execute_result"
    }
   ],
   "source": [
    "furthest_distance = 0\n",
    "\n",
    "for points in range(len(pcds_arr)): \n",
    "    for i in range(len(pcds_males_arr)):\n",
    "        distance = np.max(np.sqrt(np.sum(abs(pcds_arr[points][i])**2,axis=1)))\n",
    "        if distance > furthest_distance:\n",
    "            furthest_distance = distance\n",
    "            \n",
    "furthest_distance"
   ]
  },
  {
   "attachments": {},
   "cell_type": "markdown",
   "metadata": {},
   "source": [
    "### Normalize (Update to normalize in regards to biggest person)"
   ]
  },
  {
   "cell_type": "code",
   "execution_count": null,
   "metadata": {},
   "outputs": [
    {
     "name": "stderr",
     "output_type": "stream",
     "text": [
      "100%|██████████| 5/5 [00:00<00:00, 2287.22it/s]\n",
      "100%|██████████| 5/5 [00:00<00:00, 2155.12it/s]\n"
     ]
    }
   ],
   "source": [
    "def normalize(points): # The input of this function is a point cloud object\n",
    "    # This function normalizes a point cloud within a unit sphere\n",
    "    points = np.asarray(points.points) \n",
    "    centroid = np.mean(points, axis=0)\n",
    "    points -= centroid\n",
    "    points / furthest_distance\n",
    "    return points # The function return a numpy array of dimension nx3 where the points are normalized within a unit sphere\n",
    "\n",
    "pcds_females_arr_norm = []\n",
    "pcds_males_arr_norm = []\n",
    "pcds_arr_norm = [pcds_females_arr_norm, pcds_males_arr_norm]\n",
    "\n",
    "\n",
    "for points in range(len(pcds_arr)):\n",
    "    for i in tqdm(range(len(pcds_females))):\n",
    "        pcds_arr_norm[points].append(normalize(pcds[points][i]))"
   ]
  },
  {
   "cell_type": "code",
   "execution_count": null,
   "metadata": {},
   "outputs": [
    {
     "data": {
      "text/plain": [
       "0.9743922188930294"
      ]
     },
     "execution_count": 9,
     "metadata": {},
     "output_type": "execute_result"
    }
   ],
   "source": [
    "furthest_distance = 0\n",
    "\n",
    "for points in range(len(pcds_arr_norm)): \n",
    "    for i in range(len(pcds_males_arr)):\n",
    "        distance = np.max(np.sqrt(np.sum(abs(pcds_arr_norm[points][i])**2,axis=1)))\n",
    "        if distance > furthest_distance:\n",
    "            furthest_distance = distance\n",
    "            \n",
    "furthest_distance"
   ]
  },
  {
   "attachments": {},
   "cell_type": "markdown",
   "metadata": {},
   "source": [
    "# Centraliser"
   ]
  },
  {
   "cell_type": "code",
   "execution_count": null,
   "metadata": {},
   "outputs": [],
   "source": []
  },
  {
   "attachments": {},
   "cell_type": "markdown",
   "metadata": {},
   "source": [
    "# Augmentation"
   ]
  },
  {
   "attachments": {},
   "cell_type": "markdown",
   "metadata": {},
   "source": [
    "### Rotation"
   ]
  },
  {
   "cell_type": "code",
   "execution_count": null,
   "metadata": {},
   "outputs": [],
   "source": [
    "test_person = pcds_females[2]"
   ]
  },
  {
   "cell_type": "code",
   "execution_count": null,
   "metadata": {},
   "outputs": [],
   "source": [
    "# Define the maximum angle in degrees for the random rotation\n",
    "max_angle = 45\n",
    "\n",
    "# Generate a random rotation axis and angle\n",
    "axis = np.random.uniform(-1, 1, 3)\n",
    "axis /= np.linalg.norm(axis)\n",
    "angle = np.random.uniform(-max_angle, max_angle) * np.pi / 180  # convert degrees to radians\n",
    "\n",
    "# Create the rotation matrix using Open3D's utility function\n",
    "#rot_matrix = o3d.geometry.get_rotation_matrix_from_axis_angle(axis, angle)\n",
    "R = mesh.get_rotation_matrix_from_xyz((np.pi / 2, np.pi / 2, np.pi / 2))\n",
    "\n",
    "\n",
    "# Apply the rotation to the point cloud using Open3D's built-in transform function\n",
    "test_rotate = test_person.rotate(R)"
   ]
  },
  {
   "attachments": {},
   "cell_type": "markdown",
   "metadata": {},
   "source": [
    "### To visualise point cloud"
   ]
  },
  {
   "cell_type": "code",
   "execution_count": null,
   "metadata": {},
   "outputs": [],
   "source": [
    "#o3d.visualization.draw_geometries([test_person,pcds_males[2]])"
   ]
  }
 ],
 "metadata": {
  "kernelspec": {
   "display_name": "Python 3 (ipykernel)",
   "language": "python",
   "name": "python3"
  },
  "language_info": {
   "codemirror_mode": {
    "name": "ipython",
    "version": 3
   },
   "file_extension": ".py",
   "mimetype": "text/x-python",
   "name": "python",
   "nbconvert_exporter": "python",
   "pygments_lexer": "ipython3",
   "version": "3.10.9"
  },
  "vscode": {
   "interpreter": {
    "hash": "519c1f0673ba03a526f963f95f3579972f1ff9821eebfa23d7bc8438f630eba8"
   }
  }
 },
 "nbformat": 4,
 "nbformat_minor": 2
}
