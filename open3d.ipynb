{
 "cells": [
  {
   "cell_type": "code",
   "execution_count": 1,
   "metadata": {},
   "outputs": [],
   "source": [
    "import open3d as o3d\n",
    "import numpy as np\n",
    "import os\n",
    "from tqdm import tqdm\n",
    "#import tensorflow as tf\n",
    "import random\n",
    "import matplotlib.pyplot as plt\n",
    "import glob\n",
    "from torch.utils.data import Dataset, DataLoader"
   ]
  },
  {
   "attachments": {},
   "cell_type": "markdown",
   "metadata": {},
   "source": [
    "## Fix your path here"
   ]
  },
  {
   "cell_type": "code",
   "execution_count": 2,
   "metadata": {},
   "outputs": [],
   "source": [
    "filepath = [\"data/female\", \"data/male\"]"
   ]
  },
  {
   "cell_type": "code",
   "execution_count": 22,
   "metadata": {},
   "outputs": [
    {
     "name": "stdout",
     "output_type": "stream",
     "text": [
      "There are 1531 female objects\n",
      "There are 1517 male objects\n",
      "In total there are 3048 number of objects\n"
     ]
    }
   ],
   "source": [
    "#count how many objects there are in total\n",
    "fem = []\n",
    "mal = []\n",
    "for obj in glob.iglob(\"./data/female/*.obj\"):\n",
    "    fem.append(1)\n",
    "for obj in glob.iglob(\"./data/male/*.obj\"):\n",
    "    mal.append(1)\n",
    "\n",
    "fem_tot, mal_tot, total = len(fem), len(mal), len(fem)+len(mal)\n",
    "\n",
    "print(\"There are \" + str(fem_tot) + \" female objects\")\n",
    "print(\"There are \" + str(mal_tot) + \" male objects\")\n",
    "print(\"In total there are \" + str(total) + \" number of objects\")"
   ]
  },
  {
   "cell_type": "code",
   "execution_count": 4,
   "metadata": {},
   "outputs": [],
   "source": [
    "# data_paths = filepath\n",
    "\n",
    "# N = 5\n",
    "\n",
    "# pcds_females = []\n",
    "# pcds_males = []\n",
    "# pcds = [pcds_females, pcds_males]\n",
    "\n",
    "# for data in range(len(data_paths)):\n",
    "#     files = []\n",
    "#     folder_to_view = data_paths[data]\n",
    "\n",
    "#     list = pcds[data]\n",
    "#     for file in os.listdir(folder_to_view):\n",
    "#         files.append(file)\n",
    "#     for i in tqdm(range(N)):\n",
    "#         file = (folder_to_view + \"/\" + str(files[i]))\n",
    "#         mesh = o3d.io.read_triangle_mesh(file)\n",
    "#         vertices = np.asarray(mesh.vertices)\n",
    "#         center = vertices.mean(axis=0)\n",
    "#         vertices -= center\n",
    "#         mesh.vertices = o3d.utility.Vector3dVector(vertices)\n",
    "#         mesh.get_center()\n",
    "#         pcd = mesh.sample_points_uniformly(2048)\n",
    "#         #pcd = pcd.voxel_down_sample(voxel_size=0.5)\n",
    "#         list.append(pcd)"
   ]
  },
  {
   "cell_type": "code",
   "execution_count": 5,
   "metadata": {},
   "outputs": [],
   "source": [
    "def Load_data(filepath, N): \n",
    "    # function takes filepath to data folder, and number of objects we want to load\n",
    "    pcds_females = []\n",
    "    pcds_males = []\n",
    "    pcds = [pcds_males, pcds_females]\n",
    "    for folder in range(len(filepath)):\n",
    "        objects = []\n",
    "        folder_to_view = filepath[folder]\n",
    "        for object in os.listdir(folder_to_view):\n",
    "            objects.append(object) #appends all objects to either female or male folder\n",
    "        for i in tqdm(range(N)):\n",
    "            file = (folder_to_view + \"/\" + str(objects[i])) #iterates over each object\n",
    "\n",
    "            mesh = o3d.io.read_triangle_mesh(file) #load each object as mesh\n",
    "            #cetralises each mesh object\n",
    "            vertices = np.asarray(mesh.vertices)\n",
    "            center = vertices.mean(axis=0)\n",
    "            vertices -= center\n",
    "            mesh.vertices = o3d.utility.Vector3dVector(vertices)\n",
    "\n",
    "            #converts mesh to pcd and downsamples to 2048 points\n",
    "            pcd = mesh.sample_points_uniformly(2048)\n",
    "\n",
    "            pcds[folder].append(pcd)\n",
    "\n",
    "    return pcds_females, pcds_males, pcds"
   ]
  },
  {
   "cell_type": "code",
   "execution_count": 6,
   "metadata": {},
   "outputs": [],
   "source": [
    "class PointCloudDataset(Dataset):\n",
    "    def __init__(self):\n",
    "\n",
    "        males = []\n",
    "        females =[]\n",
    "\n",
    "        #load females\n",
    "        for obj in glob.iglob(\"./data/female/*.obj\"):\n",
    "            mesh = o3d.io.read_triangle_mesh(obj)\n",
    "\n",
    "            #cetralises each mesh object\n",
    "            vertices = np.asarray(mesh.vertices)\n",
    "            center = vertices.mean(axis=0)\n",
    "            vertices -= center\n",
    "            mesh.vertices = o3d.utility.Vector3dVector(vertices)\n",
    "\n",
    "            #converts mesh to pcd and downsamples to 2048 points\n",
    "            pcd = mesh.sample_points_uniformly(2048)\n",
    "            females.append(pcd)\n",
    "        \n",
    "        #load males\n",
    "        for obj in glob.iglob(\"./data/male/*.obj\"):\n",
    "            mesh = o3d.io.read_triangle_mesh(obj)\n",
    "\n",
    "            #cetralises each mesh object\n",
    "            vertices = np.asarray(mesh.vertices)\n",
    "            center = vertices.mean(axis=0)\n",
    "            vertices -= center\n",
    "            mesh.vertices = o3d.utility.Vector3dVector(vertices)\n",
    "\n",
    "            #converts mesh to pcd and downsamples to 2048 points\n",
    "            pcd = mesh.sample_points_uniformly(2048)\n",
    "            males.append(pcd)\n",
    "\n",
    "        \n",
    "        \n",
    "        self.females = females\n",
    "        self.males = males\n",
    "        self.pcds = np.concatenate((females, males), axis=0)\n",
    "    \n",
    "    def __len__(self):\n",
    "        return len(self.pcds)\n",
    "    \n",
    "    def __getitem__(self, idx):\n",
    "        return self.pcds[idx]"
   ]
  },
  {
   "cell_type": "code",
   "execution_count": 7,
   "metadata": {},
   "outputs": [
    {
     "name": "stdout",
     "output_type": "stream",
     "text": [
      "3048\n"
     ]
    }
   ],
   "source": [
    "#Load entire dataset and stash in the pytorch class: (takes approx 2-3 min)\n",
    "pcds_dataset = PointCloudDataset()\n",
    "\n",
    "print(len(pcds_dataset))"
   ]
  },
  {
   "cell_type": "code",
   "execution_count": 9,
   "metadata": {},
   "outputs": [
    {
     "data": {
      "text/plain": [
       "PointCloud with 2048 points."
      ]
     },
     "execution_count": 9,
     "metadata": {},
     "output_type": "execute_result"
    }
   ],
   "source": [
    "#access each pointcloud from the loaded dataset\n",
    "pcds_dataset[200]"
   ]
  },
  {
   "cell_type": "code",
   "execution_count": 16,
   "metadata": {},
   "outputs": [
    {
     "data": {
      "image/png": "[encoded data removed]",
      "text/plain": [
       "<Figure size 640x480 with 1 Axes>"
      ]
     },
     "metadata": {},
     "output_type": "display_data"
    }
   ],
   "source": [
    "#use function to visualize different pointclouds\n",
    "visualize(pcds_dataset[200])"
   ]
  },
  {
   "attachments": {},
   "cell_type": "markdown",
   "metadata": {},
   "source": [
    "### Normals"
   ]
  },
  {
   "cell_type": "code",
   "execution_count": 18,
   "metadata": {},
   "outputs": [
    {
     "name": "stderr",
     "output_type": "stream",
     "text": [
      "100%|██████████| 5/5 [00:00<00:00, 19.94it/s]\n",
      "100%|██████████| 5/5 [00:00<00:00, 21.91it/s]\n"
     ]
    }
   ],
   "source": [
    "pcds_females, pcds_males, pcds = Load_data(filepath=filepath, N = 5)"
   ]
  },
  {
   "cell_type": "code",
   "execution_count": 125,
   "metadata": {},
   "outputs": [
    {
     "data": {
      "text/plain": [
       "(2048, 3)"
      ]
     },
     "execution_count": 125,
     "metadata": {},
     "output_type": "execute_result"
    }
   ],
   "source": [
    "def Get_normals(pcds_females): \n",
    "    normals = []\n",
    "    for i in range(len(pcds_females)):\n",
    "        normals.append(np.asarray(pcds_females[i].normals))\n",
    "    return normals\n",
    "normalerne = Get_normals(pcds_females)\n",
    "\n",
    "np.shape(normalerne[0])"
   ]
  },
  {
   "attachments": {},
   "cell_type": "markdown",
   "metadata": {},
   "source": [
    "### Convert to numpy array"
   ]
  },
  {
   "cell_type": "code",
   "execution_count": 126,
   "metadata": {},
   "outputs": [
    {
     "name": "stderr",
     "output_type": "stream",
     "text": [
      "100%|██████████| 5/5 [00:00<00:00, 36792.14it/s]\n",
      "100%|██████████| 5/5 [00:00<00:00, 51025.60it/s]\n"
     ]
    }
   ],
   "source": [
    "pcds_females_arr = []\n",
    "pcds_males_arr = []\n",
    "pcds_arr = [pcds_females_arr, pcds_males_arr]\n",
    "\n",
    "\n",
    "for points in range(len(pcds)): \n",
    "    for i in tqdm(range(len(pcds_females))):\n",
    "        pcds_arr[points].append(np.asarray(pcds[points][i].points) )\n",
    "\n"
   ]
  },
  {
   "cell_type": "code",
   "execution_count": 127,
   "metadata": {},
   "outputs": [
    {
     "data": {
      "text/plain": [
       "0.9907830883265987"
      ]
     },
     "execution_count": 127,
     "metadata": {},
     "output_type": "execute_result"
    }
   ],
   "source": [
    "furthest_distance = 0\n",
    "\n",
    "for points in range(len(pcds_arr)): \n",
    "    for i in range(len(pcds_males_arr)):\n",
    "        distance = np.max(np.sqrt(np.sum(abs(pcds_arr[points][i])**2,axis=1)))\n",
    "        if distance > furthest_distance:\n",
    "            furthest_distance = distance\n",
    "            \n",
    "furthest_distance"
   ]
  },
  {
   "attachments": {},
   "cell_type": "markdown",
   "metadata": {},
   "source": [
    "### Normalize (Update to normalize in regards to biggest person)"
   ]
  },
  {
   "cell_type": "code",
   "execution_count": 128,
   "metadata": {},
   "outputs": [
    {
     "name": "stderr",
     "output_type": "stream",
     "text": [
      "100%|██████████| 5/5 [00:00<00:00, 2281.25it/s]\n",
      "100%|██████████| 5/5 [00:00<00:00, 5223.29it/s]\n"
     ]
    }
   ],
   "source": [
    "def normalize(points): # The input of this function is a point cloud object\n",
    "    # This function normalizes a point cloud within a unit sphere\n",
    "    points = np.asarray(points.points) \n",
    "    centroid = np.mean(points, axis=0)\n",
    "    points -= centroid\n",
    "    points / furthest_distance\n",
    "    return points # The function return a numpy array of dimension nx3 where the points are normalized within a unit sphere\n",
    "\n",
    "pcds_females_arr_norm = []\n",
    "pcds_males_arr_norm = []\n",
    "pcds_arr_norm = [pcds_females_arr_norm, pcds_males_arr_norm]\n",
    "\n",
    "\n",
    "for points in range(len(pcds_arr)):\n",
    "    for i in tqdm(range(len(pcds_females))):\n",
    "        pcds_arr_norm[points].append(normalize(pcds[points][i]))"
   ]
  },
  {
   "cell_type": "code",
   "execution_count": 129,
   "metadata": {},
   "outputs": [
    {
     "data": {
      "text/plain": [
       "0.9783446727681298"
      ]
     },
     "execution_count": 129,
     "metadata": {},
     "output_type": "execute_result"
    }
   ],
   "source": [
    "furthest_distance = 0\n",
    "\n",
    "for points in range(len(pcds_arr_norm)): \n",
    "    for i in range(len(pcds_males_arr)):\n",
    "        distance = np.max(np.sqrt(np.sum(abs(pcds_arr_norm[points][i])**2,axis=1)))\n",
    "        if distance > furthest_distance:\n",
    "            furthest_distance = distance\n",
    "            \n",
    "furthest_distance"
   ]
  },
  {
   "attachments": {},
   "cell_type": "markdown",
   "metadata": {},
   "source": [
    "# Centraliser"
   ]
  },
  {
   "cell_type": "code",
   "execution_count": 11,
   "metadata": {},
   "outputs": [],
   "source": [
    "def visualize(points):\n",
    "    points = np.asarray(points.points)\n",
    "\n",
    "    # Plot it using matplotlib with tiny points and constrained axes\n",
    "    fig = plt.figure()\n",
    "    ax = fig.add_subplot(projection='3d')\n",
    "    ax.scatter(points[:,0], points[:,1], points[:,2], s=0.1)\n",
    "    ax.set_xlabel('X')\n",
    "    ax.set_ylabel('Y')\n",
    "    ax.set_zlabel('Z')\n",
    "    ax.set_box_aspect((1,1,1)) # Constrain the axes\n",
    "    ax.set_proj_type('ortho') # Use orthographic projection\n",
    "    ax.set_xlim(-1,1) # Set x-axis range\n",
    "    ax.set_ylim(-1,1) # Set y-axis range\n",
    "    ax.set_zlim(-1,1) # Set z-axis range\n",
    "    plt.show()\n",
    "\n",
    "\n",
    "#visualize(pcds_females[2])"
   ]
  },
  {
   "attachments": {},
   "cell_type": "markdown",
   "metadata": {},
   "source": [
    "# Augmentation"
   ]
  },
  {
   "attachments": {},
   "cell_type": "markdown",
   "metadata": {},
   "source": [
    "### Rotation"
   ]
  },
  {
   "cell_type": "code",
   "execution_count": 131,
   "metadata": {},
   "outputs": [],
   "source": [
    "test_person = pcds_females[2]"
   ]
  },
  {
   "cell_type": "code",
   "execution_count": 132,
   "metadata": {},
   "outputs": [],
   "source": [
    "# Define the maximum angle in degrees for the random rotation\n",
    "max_angle = 45\n",
    "\n",
    "mesh = o3d.io.read_triangle_mesh(\"data/female/SPRING0060.obj\")\n",
    "# Generate a random rotation axis and angle\n",
    "axis = np.random.uniform(-1, 1, 3)\n",
    "axis /= np.linalg.norm(axis)\n",
    "angle = np.random.uniform(-max_angle, max_angle) * np.pi / 180  # convert degrees to radians\n",
    "\n",
    "# Create the rotation matrix using Open3D's utility function\n",
    "#rot_matrix = o3d.geometry.get_rotation_matrix_from_axis_angle(axis, angle)\n",
    "\n",
    "R = mesh.get_rotation_matrix_from_xyz((np.pi / 2, np.pi / 2, np.pi / 2))\n",
    "\n",
    "\n",
    "# Apply the rotation to the point cloud using Open3D's built-in transform function\n",
    "test_rotate = test_person.rotate(R)"
   ]
  },
  {
   "attachments": {},
   "cell_type": "markdown",
   "metadata": {},
   "source": [
    "### To visualise point cloud"
   ]
  },
  {
   "cell_type": "code",
   "execution_count": 133,
   "metadata": {},
   "outputs": [],
   "source": [
    "#o3d.visualization.draw_geometries([test_person,pcds_males[2]])"
   ]
  }
 ],
 "metadata": {
  "kernelspec": {
   "display_name": "Python 3 (ipykernel)",
   "language": "python",
   "name": "python3"
  },
  "language_info": {
   "codemirror_mode": {
    "name": "ipython",
    "version": 3
   },
   "file_extension": ".py",
   "mimetype": "text/x-python",
   "name": "python",
   "nbconvert_exporter": "python",
   "pygments_lexer": "ipython3",
   "version": "3.10.9"
  },
  "vscode": {
   "interpreter": {
    "hash": "519c1f0673ba03a526f963f95f3579972f1ff9821eebfa23d7bc8438f630eba8"
   }
  }
 },
 "nbformat": 4,
 "nbformat_minor": 2
}
