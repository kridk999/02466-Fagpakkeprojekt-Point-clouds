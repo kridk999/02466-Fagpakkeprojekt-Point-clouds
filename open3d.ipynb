{
 "cells": [
  {
   "cell_type": "code",
   "execution_count": 1,
   "metadata": {},
   "outputs": [],
   "source": [
    "import open3d as o3d\n",
    "import numpy as np\n",
    "import os\n",
    "from tqdm import tqdm\n",
    "#import tensorflow as tf\n",
    "import random\n",
    "import matplotlib.pyplot as plt\n",
    "import glob\n",
    "from torch.utils.data import Dataset, DataLoader\n",
    "import pandas as pd"
   ]
  },
  {
   "attachments": {},
   "cell_type": "markdown",
   "metadata": {},
   "source": [
    "## Fix your path here"
   ]
  },
  {
   "cell_type": "code",
   "execution_count": 2,
   "metadata": {},
   "outputs": [],
   "source": [
    "filepath = [\"data/female\", \"data/male\"]"
   ]
  },
  {
   "cell_type": "code",
   "execution_count": 4,
   "metadata": {},
   "outputs": [
    {
     "name": "stdout",
     "output_type": "stream",
     "text": [
      "There are 1531 female objects\n",
      "There are 1517 male objects\n",
      "In total there are 3048 number of objects\n"
     ]
    }
   ],
   "source": [
    "#count how many objects there are in total\n",
    "fem = []\n",
    "mal = []\n",
    "for obj in glob.iglob(\"./data/female/*.obj\"):\n",
    "    fem.append(1)\n",
    "for obj in glob.iglob(\"./data/male/*.obj\"):\n",
    "    mal.append(1)\n",
    "\n",
    "fem_tot, mal_tot, total = len(fem), len(mal), len(fem)+len(mal)\n",
    "\n",
    "print(\"There are \" + str(fem_tot) + \" female objects\")\n",
    "print(\"There are \" + str(mal_tot) + \" male objects\")\n",
    "print(\"In total there are \" + str(total) + \" number of objects\")"
   ]
  },
  {
   "cell_type": "code",
   "execution_count": 4,
   "metadata": {},
   "outputs": [],
   "source": [
    "# data_paths = filepath\n",
    "\n",
    "# N = 5\n",
    "\n",
    "# pcds_females = []\n",
    "# pcds_males = []\n",
    "# pcds = [pcds_females, pcds_males]\n",
    "\n",
    "# for data in range(len(data_paths)):\n",
    "#     files = []\n",
    "#     folder_to_view = data_paths[data]\n",
    "\n",
    "#     list = pcds[data]\n",
    "#     for file in os.listdir(folder_to_view):\n",
    "#         files.append(file)\n",
    "#     for i in tqdm(range(N)):\n",
    "#         file = (folder_to_view + \"/\" + str(files[i]))\n",
    "#         mesh = o3d.io.read_triangle_mesh(file)\n",
    "#         vertices = np.asarray(mesh.vertices)\n",
    "#         center = vertices.mean(axis=0)\n",
    "#         vertices -= center\n",
    "#         mesh.vertices = o3d.utility.Vector3dVector(vertices)\n",
    "#         mesh.get_center()\n",
    "#         pcd = mesh.sample_points_uniformly(2048)\n",
    "#         #pcd = pcd.voxel_down_sample(voxel_size=0.5)\n",
    "#         list.append(pcd)"
   ]
  },
  {
   "cell_type": "code",
   "execution_count": 7,
   "metadata": {},
   "outputs": [],
   "source": [
    "def Load_data(filepath, N): \n",
    "    # function takes filepath to data folder, and number of objects we want to load\n",
    "    pcds_females = []\n",
    "    pcds_males = []\n",
    "    pcds = [pcds_males, pcds_females]\n",
    "    for folder in range(len(filepath)):\n",
    "        objects = []\n",
    "        folder_to_view = filepath[folder]\n",
    "        for object in os.listdir(folder_to_view):\n",
    "            objects.append(object) #appends all objects to either female or male folder\n",
    "        for i in tqdm(range(N)):\n",
    "            file = (folder_to_view + \"/\" + str(objects[i])) #iterates over each object\n",
    "\n",
    "            mesh = o3d.io.read_triangle_mesh(file) #load each object as mesh\n",
    "            #cetralises each mesh object\n",
    "            vertices = np.asarray(mesh.vertices)\n",
    "            center = vertices.mean(axis=0)\n",
    "            vertices -= center\n",
    "            mesh.vertices = o3d.utility.Vector3dVector(vertices)\n",
    "\n",
    "            #converts mesh to pcd and downsamples to 2048 points\n",
    "            pcd = mesh.sample_points_uniformly(2048)\n",
    "\n",
    "            pcds[folder].append(pcd)\n",
    "\n",
    "    return pcds_females, pcds_males, pcds"
   ]
  },
  {
   "cell_type": "code",
   "execution_count": 3,
   "metadata": {},
   "outputs": [],
   "source": [
    "class PointCloudDataset(Dataset):\n",
    "    def __init__(self):\n",
    "\n",
    "        males = []\n",
    "        females =[]\n",
    "\n",
    "        #load females\n",
    "        for obj in glob.iglob(\"./data/female/*.obj\"):\n",
    "            mesh = o3d.io.read_triangle_mesh(obj)\n",
    "\n",
    "            #cetralises each mesh object\n",
    "            vertices = np.asarray(mesh.vertices)\n",
    "            center = vertices.mean(axis=0)\n",
    "            vertices -= center\n",
    "            mesh.vertices = o3d.utility.Vector3dVector(vertices)\n",
    "\n",
    "            #converts mesh to pcd and downsamples to 2048 points\n",
    "            pcd = mesh.sample_points_uniformly(2048)\n",
    "            females.append(pcd)\n",
    "        \n",
    "        #load males\n",
    "        for obj in glob.iglob(\"./data/male/*.obj\"):\n",
    "            mesh = o3d.io.read_triangle_mesh(obj)\n",
    "\n",
    "            #cetralises each mesh object\n",
    "            vertices = np.asarray(mesh.vertices)\n",
    "            center = vertices.mean(axis=0)\n",
    "            vertices -= center\n",
    "            mesh.vertices = o3d.utility.Vector3dVector(vertices)\n",
    "\n",
    "            #converts mesh to pcd and downsamples to 2048 points\n",
    "            pcd = mesh.sample_points_uniformly(2048)\n",
    "            males.append(pcd)\n",
    "\n",
    "        \n",
    "        \n",
    "        self.females = females\n",
    "        self.males = males\n",
    "        self.pcds = np.concatenate((females, males), axis=0)\n",
    "    \n",
    "    def __len__(self):\n",
    "        return len(self.pcds)\n",
    "    \n",
    "    def __getitem__(self, idx):\n",
    "        return self.pcds[idx]\n",
    "    \n",
    "    def Get_normals(self, points): \n",
    "        normals = []\n",
    "        for i in range(len(points)):\n",
    "            normals.append(np.asarray(points[i].normals))\n",
    "        return normals\n"
   ]
  },
  {
   "cell_type": "code",
   "execution_count": 4,
   "metadata": {},
   "outputs": [
    {
     "name": "stdout",
     "output_type": "stream",
     "text": [
      "3048\n"
     ]
    }
   ],
   "source": [
    "#Load entire dataset and stash in the pytorch class: (takes approx 2-3 min)\n",
    "pcds_dataset = PointCloudDataset()\n",
    "\n",
    "print(len(pcds_dataset))"
   ]
  },
  {
   "cell_type": "code",
   "execution_count": 5,
   "metadata": {},
   "outputs": [
    {
     "data": {
      "text/plain": [
       "PointCloud with 2048 points."
      ]
     },
     "execution_count": 5,
     "metadata": {},
     "output_type": "execute_result"
    }
   ],
   "source": [
    "#access each pointcloud from the loaded dataset\n",
    "pcds_dataset[200]"
   ]
  },
  {
   "attachments": {},
   "cell_type": "markdown",
   "metadata": {},
   "source": [
    "### Normals"
   ]
  },
  {
   "cell_type": "code",
   "execution_count": 9,
   "metadata": {},
   "outputs": [
    {
     "name": "stderr",
     "output_type": "stream",
     "text": [
      " 50%|█████     | 1531/3048 [01:39<01:38, 15.37it/s]\n"
     ]
    },
    {
     "ename": "IndexError",
     "evalue": "list index out of range",
     "output_type": "error",
     "traceback": [
      "\u001b[0;31m---------------------------------------------------------------------------\u001b[0m",
      "\u001b[0;31mIndexError\u001b[0m                                Traceback (most recent call last)",
      "Cell \u001b[0;32mIn[9], line 1\u001b[0m\n\u001b[0;32m----> 1\u001b[0m pcds_females, pcds_males, pcds \u001b[39m=\u001b[39m Load_data(filepath\u001b[39m=\u001b[39;49mfilepath, N \u001b[39m=\u001b[39;49m \u001b[39m3048\u001b[39;49m)\n",
      "Cell \u001b[0;32mIn[7], line 12\u001b[0m, in \u001b[0;36mLoad_data\u001b[0;34m(filepath, N)\u001b[0m\n\u001b[1;32m     10\u001b[0m     objects\u001b[39m.\u001b[39mappend(\u001b[39mobject\u001b[39m) \u001b[39m#appends all objects to either female or male folder\u001b[39;00m\n\u001b[1;32m     11\u001b[0m \u001b[39mfor\u001b[39;00m i \u001b[39min\u001b[39;00m tqdm(\u001b[39mrange\u001b[39m(N)):\n\u001b[0;32m---> 12\u001b[0m     file \u001b[39m=\u001b[39m (folder_to_view \u001b[39m+\u001b[39m \u001b[39m\"\u001b[39m\u001b[39m/\u001b[39m\u001b[39m\"\u001b[39m \u001b[39m+\u001b[39m \u001b[39mstr\u001b[39m(objects[i])) \u001b[39m#iterates over each object\u001b[39;00m\n\u001b[1;32m     14\u001b[0m     mesh \u001b[39m=\u001b[39m o3d\u001b[39m.\u001b[39mio\u001b[39m.\u001b[39mread_triangle_mesh(file) \u001b[39m#load each object as mesh\u001b[39;00m\n\u001b[1;32m     15\u001b[0m     \u001b[39m#cetralises each mesh object\u001b[39;00m\n",
      "\u001b[0;31mIndexError\u001b[0m: list index out of range"
     ]
    }
   ],
   "source": [
    "pcds_females, pcds_males, pcds = Load_data(filepath=filepath, N = 3048)"
   ]
  },
  {
   "cell_type": "code",
   "execution_count": 11,
   "metadata": {},
   "outputs": [
    {
     "data": {
      "text/plain": [
       "(2048, 3)"
      ]
     },
     "execution_count": 11,
     "metadata": {},
     "output_type": "execute_result"
    }
   ],
   "source": [
    "def Get_normals(pcds_females): \n",
    "    normals = []\n",
    "    for i in range(len(pcds_females)):\n",
    "        normals.append(np.asarray(pcds_females[i].normals))\n",
    "    return normals\n",
    "normalerne = Get_normals(pcds_females)\n",
    "\n",
    "np.shape(normalerne[0])"
   ]
  },
  {
   "attachments": {},
   "cell_type": "markdown",
   "metadata": {},
   "source": [
    "### Convert to numpy array"
   ]
  },
  {
   "cell_type": "code",
   "execution_count": 12,
   "metadata": {},
   "outputs": [
    {
     "name": "stderr",
     "output_type": "stream",
     "text": [
      "100%|██████████| 5/5 [00:00<00:00, 36472.21it/s]\n",
      "100%|██████████| 5/5 [00:00<00:00, 60090.32it/s]\n"
     ]
    }
   ],
   "source": [
    "pcds_females_arr = []\n",
    "pcds_males_arr = []\n",
    "pcds_arr = [pcds_females_arr, pcds_males_arr]\n",
    "\n",
    "pcds_dataset\n",
    "\n",
    "for points in range(len(pcds)): \n",
    "    for i in tqdm(range(len(pcds_females))):\n",
    "        pcds_arr[points].append(np.asarray(pcds[points][i].points) )\n",
    "\n"
   ]
  },
  {
   "cell_type": "code",
   "execution_count": 12,
   "metadata": {},
   "outputs": [
    {
     "data": {
      "text/plain": [
       "PointCloud with 2048 points."
      ]
     },
     "execution_count": 12,
     "metadata": {},
     "output_type": "execute_result"
    }
   ],
   "source": [
    "pcds_dataset[1]"
   ]
  },
  {
   "cell_type": "code",
   "execution_count": 13,
   "metadata": {},
   "outputs": [
    {
     "data": {
      "text/plain": [
       "1.103279724474332"
      ]
     },
     "execution_count": 13,
     "metadata": {},
     "output_type": "execute_result"
    }
   ],
   "source": [
    "furthest_distance = 0\n",
    "\n",
    "for clouds in range(len(pcds_dataset)):\n",
    "    distance = np.max(np.sqrt(np.sum(abs(np.asarray(pcds_dataset[clouds].points))**2,axis=1)))\n",
    "    if distance > furthest_distance:\n",
    "        furthest_distance = distance\n",
    "furthest_distance"
   ]
  },
  {
   "cell_type": "code",
   "execution_count": 13,
   "metadata": {},
   "outputs": [
    {
     "data": {
      "text/plain": [
       "0.991306190251108"
      ]
     },
     "execution_count": 13,
     "metadata": {},
     "output_type": "execute_result"
    }
   ],
   "source": [
    "furthest_distance = 0\n",
    "\n",
    "pcds_dataset\n",
    "\n",
    "for points in range(len(pcds_arr)): \n",
    "    for i in range(len(pcds_males_arr)):\n",
    "        distance = np.max(np.sqrt(np.sum(abs(pcds_arr[points][i])**2,axis=1)))\n",
    "        if distance > furthest_distance:\n",
    "            furthest_distance = distance\n",
    "            \n",
    "furthest_distance"
   ]
  },
  {
   "attachments": {},
   "cell_type": "markdown",
   "metadata": {},
   "source": [
    "### Normalize (Update to normalize in regards to biggest person)"
   ]
  },
  {
   "cell_type": "code",
   "execution_count": 14,
   "metadata": {},
   "outputs": [
    {
     "name": "stderr",
     "output_type": "stream",
     "text": [
      "100%|██████████| 5/5 [00:00<00:00, 2526.38it/s]\n",
      "100%|██████████| 5/5 [00:00<00:00, 4463.93it/s]\n"
     ]
    }
   ],
   "source": [
    "def normalize(points): # The input of this function is a point cloud object\n",
    "    # This function normalizes a point cloud within a unit sphere\n",
    "    points = np.asarray(points.points) \n",
    "    centroid = np.mean(points, axis=0)\n",
    "    points -= centroid\n",
    "    points / furthest_distance\n",
    "    return points # The function return a numpy array of dimension nx3 where the points are normalized within a unit sphere\n",
    "\n",
    "pcds_females_arr_norm = []\n",
    "pcds_males_arr_norm = []\n",
    "pcds_arr_norm = [pcds_females_arr_norm, pcds_males_arr_norm]\n",
    "\n",
    "\n",
    "for points in range(len(pcds_arr)):\n",
    "    for i in tqdm(range(len(pcds_females))):\n",
    "        pcds_arr_norm[points].append(normalize(pcds[points][i]))"
   ]
  },
  {
   "cell_type": "code",
   "execution_count": 15,
   "metadata": {},
   "outputs": [
    {
     "data": {
      "text/plain": [
       "0.9792728807162809"
      ]
     },
     "execution_count": 15,
     "metadata": {},
     "output_type": "execute_result"
    }
   ],
   "source": [
    "furthest_distance = 0\n",
    "\n",
    "for points in range(len(pcds_arr_norm)): \n",
    "    for i in range(len(pcds_males_arr)):\n",
    "        distance = np.max(np.sqrt(np.sum(abs(pcds_arr_norm[points][i])**2,axis=1)))\n",
    "        if distance > furthest_distance:\n",
    "            furthest_distance = distance\n",
    "            \n",
    "furthest_distance"
   ]
  },
  {
   "attachments": {},
   "cell_type": "markdown",
   "metadata": {},
   "source": [
    "# Centraliser"
   ]
  },
  {
   "cell_type": "code",
   "execution_count": 57,
   "metadata": {},
   "outputs": [],
   "source": [
    "def visualize3d(cloud):\n",
    "    name = cloud\n",
    "    points = np.asarray(cloud.points) #takes pointcloud makes it into np.array [x,y,z] koordinates\n",
    "    # Creating figure\n",
    "    fig = plt.figure()\n",
    "    ax = plt.axes(projection =\"3d\")\n",
    "    \n",
    "    x,y,z = points[:,0], points[:,1], points[:,2]\n",
    "    # Add x, y gridlines\n",
    "    ax.grid(b = True, color ='grey',\n",
    "            linestyle ='-.', linewidth = 0.3,\n",
    "            alpha = 0.8)\n",
    "    \n",
    "    \n",
    "    # Creating color map\n",
    "    my_cmap = plt.get_cmap('cool')#plt.get_cmap('hsv')\n",
    "    \n",
    "    # Creating plot\n",
    "    sctt = ax.scatter3D(x, y, z,\n",
    "                        alpha = 0.5,\n",
    "                        c = (x + y + z),\n",
    "                        cmap = my_cmap,\n",
    "                        marker = 'o',\n",
    "                        s=0.5)\n",
    "    \n",
    "    plt.title(str(name))\n",
    "    ax.set_xlabel('X-axis', fontweight ='bold')\n",
    "    ax.set_ylabel('Y-axis', fontweight ='bold')\n",
    "    ax.set_zlabel('Z-axis', fontweight ='bold')\n",
    "    ax.view_init(elev=20,azim=-160,roll=0)\n",
    "    ax.set_box_aspect((1,1,1)) # Constrain the axes\n",
    "    ax.set_proj_type('ortho') # Use orthographic projection\n",
    "    ax.set_xlim(-0.75,0.75) # Set x-axis range\n",
    "    ax.set_ylim(-0.75,0.75) # Set y-axis range\n",
    "    ax.set_zlim(-0.75,0.75) # Set z-axis range\n",
    "    #fig.colorbar(sctt, ax = ax, shrink = 0.5, aspect = 5)\n",
    "    \n",
    "    # show plot\n",
    "    plt.show()"
   ]
  },
  {
   "cell_type": "code",
   "execution_count": 58,
   "metadata": {},
   "outputs": [
    {
     "data": {
      "image/png": "[encoded data removed]",
      "text/plain": [
       "<Figure size 640x480 with 1 Axes>"
      ]
     },
     "metadata": {},
     "output_type": "display_data"
    }
   ],
   "source": [
    "visualize3d(pcds_dataset[200])"
   ]
  },
  {
   "attachments": {},
   "cell_type": "markdown",
   "metadata": {},
   "source": [
    "# Augmentation"
   ]
  },
  {
   "attachments": {},
   "cell_type": "markdown",
   "metadata": {},
   "source": [
    "### To visualise point cloud"
   ]
  },
  {
   "cell_type": "code",
   "execution_count": 133,
   "metadata": {},
   "outputs": [],
   "source": [
    "#o3d.visualization.draw_geometries([test_person,pcds_males[2]])"
   ]
  }
 ],
 "metadata": {
  "kernelspec": {
   "display_name": "Python 3",
   "language": "python",
   "name": "python3"
  },
  "language_info": {
   "codemirror_mode": {
    "name": "ipython",
    "version": 3
   },
   "file_extension": ".py",
   "mimetype": "text/x-python",
   "name": "python",
   "nbconvert_exporter": "python",
   "pygments_lexer": "ipython3",
   "version": "3.10.9"
  },
  "vscode": {
   "interpreter": {
    "hash": "10c1159efa546fb876ce5411548b0efbfa2278ac2f7d2dff9cb840e394447d82"
   }
  }
 },
 "nbformat": 4,
 "nbformat_minor": 2
}
