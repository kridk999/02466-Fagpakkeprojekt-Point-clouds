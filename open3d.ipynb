{
 "cells": [
  {
   "cell_type": "code",
   "execution_count": 1,
   "metadata": {},
   "outputs": [
    {
     "name": "stderr",
     "output_type": "stream",
     "text": [
      "2023-03-16 16:24:19.921675: I tensorflow/core/platform/cpu_feature_guard.cc:193] This TensorFlow binary is optimized with oneAPI Deep Neural Network Library (oneDNN) to use the following CPU instructions in performance-critical operations:  SSE4.1 SSE4.2\n",
      "To enable them in other operations, rebuild TensorFlow with the appropriate compiler flags.\n"
     ]
    }
   ],
   "source": [
    "import open3d as o3d\n",
    "import numpy as np\n",
    "import os\n",
    "from tqdm import tqdm\n",
    "import tensorflow as tf"
   ]
  },
  {
   "attachments": {},
   "cell_type": "markdown",
   "metadata": {},
   "source": [
    "## Fix your path here"
   ]
  },
  {
   "cell_type": "code",
   "execution_count": 2,
   "metadata": {},
   "outputs": [],
   "source": [
    "filepath_kri = [\"/Users/kristofferkjaer/Desktop/mesh\", \"/Users/kristofferkjaer/Desktop/SPRING_MALE\"]\n",
    "\n",
    "filepath_karo = [\"/Users/KAROLINE/Desktop/Fagprojekt/02466-Fagpakkeprojekt-Point-clouds/Data/Female\",\"/Users/KAROLINE/Desktop/Fagprojekt/02466-Fagpakkeprojekt-Point-clouds/Data/Male\"]"
   ]
  },
  {
   "cell_type": "code",
   "execution_count": 3,
   "metadata": {},
   "outputs": [
    {
     "name": "stderr",
     "output_type": "stream",
     "text": [
      "100%|██████████| 5/5 [00:02<00:00,  1.83it/s]\n",
      "100%|██████████| 5/5 [00:02<00:00,  1.95it/s]\n"
     ]
    }
   ],
   "source": [
    "data_paths = filepath_kri\n",
    "\n",
    "N = 5\n",
    "\n",
    "pcds_females = []\n",
    "pcds_males = []\n",
    "pcds = [pcds_females, pcds_males]\n",
    "\n",
    "for data in range(len(data_paths)):\n",
    "    files = []\n",
    "    folder_to_view = data_paths[data]\n",
    "    list = pcds[data]\n",
    "    for file in os.listdir(folder_to_view):\n",
    "        files.append(file)\n",
    "    for i in tqdm(range(N)):\n",
    "        file = (folder_to_view + \"/\" + str(files[i]))\n",
    "        mesh = o3d.io.read_triangle_mesh(file)\n",
    "        pcd = mesh.sample_points_poisson_disk(2048)\n",
    "        list.append(pcd)"
   ]
  },
  {
   "attachments": {},
   "cell_type": "markdown",
   "metadata": {},
   "source": [
    "### Augment"
   ]
  },
  {
   "cell_type": "code",
   "execution_count": 4,
   "metadata": {},
   "outputs": [],
   "source": [
    "def augment(points):\n",
    "    points += tf.random.uniform(points.shape, -0.005, 0.005, dtype=tf.float64)\n",
    "    points = tf.random.shuffle(points)\n",
    "    return points"
   ]
  },
  {
   "attachments": {},
   "cell_type": "markdown",
   "metadata": {},
   "source": [
    "### Convert to numpy array"
   ]
  },
  {
   "cell_type": "code",
   "execution_count": 6,
   "metadata": {},
   "outputs": [
    {
     "name": "stderr",
     "output_type": "stream",
     "text": [
      "0it [00:00, ?it/s]\n",
      "0it [00:00, ?it/s]\n"
     ]
    }
   ],
   "source": [
    "pcds_females_arr = []\n",
    "pcds_males_arr = []\n",
    "pcds_arr = [pcds_females_arr, pcds_males_arr]\n",
    "\n",
    "\n",
    "for points in range(len(pcds_arr)): \n",
    "    for i in tqdm(range(len(pcds_males_arr))):\n",
    "        pcds_arr[points][i].append(np.asarray(pcds_arr[points][i].points) )\n",
    "\n"
   ]
  },
  {
   "attachments": {},
   "cell_type": "markdown",
   "metadata": {},
   "source": [
    "### Normalize (Update to normalize in regards to biggest person)"
   ]
  },
  {
   "cell_type": "code",
   "execution_count": 7,
   "metadata": {},
   "outputs": [
    {
     "name": "stderr",
     "output_type": "stream",
     "text": [
      "100%|██████████| 5/5 [00:00<00:00, 1834.14it/s]\n",
      "100%|██████████| 5/5 [00:00<00:00, 2591.96it/s]\n"
     ]
    }
   ],
   "source": [
    "\n",
    "def normalize(points): # The input of this function is a point cloud object\n",
    "    # This function normalizes a point cloud within a unit sphere\n",
    "    points = np.asarray(points.points) \n",
    "    centroid = np.mean(points, axis=0)\n",
    "    points -= centroid\n",
    "    furthest_distance = np.max(np.sqrt(np.sum(abs(points)**2,axis=-1)))\n",
    "    points /= furthest_distance\n",
    "    return points # The function return a numpy array of dimension nx3 where the points are normalized within a unit sphere\n",
    "\n",
    "pcds_females_arr_norm = []\n",
    "pcds_males_arr_norm = []\n",
    "pcds_arr_norm = [pcds_females_arr, pcds_males_arr]\n",
    "\n",
    "\n",
    "for points in range(len(pcds_arr)):\n",
    "\n",
    "    for i in tqdm(range(len(pcds_females))):\n",
    "        pcds_arr_norm[points].append(normalize(pcds[points][i]))"
   ]
  },
  {
   "attachments": {},
   "cell_type": "markdown",
   "metadata": {},
   "source": [
    "### To visualise point cloud"
   ]
  },
  {
   "cell_type": "code",
   "execution_count": 8,
   "metadata": {},
   "outputs": [],
   "source": [
    "#o3d.visualization.draw_geometries([pcds_females[2]])"
   ]
  },
  {
   "attachments": {},
   "cell_type": "markdown",
   "metadata": {},
   "source": [
    "### Augment"
   ]
  },
  {
   "cell_type": "code",
   "execution_count": 9,
   "metadata": {},
   "outputs": [],
   "source": [
    "def augment(points):\n",
    "    points += tf.random.uniform(points.shape, -0.005, 0.005, dtype=tf.float64)\n",
    "    points = tf.random.shuffle(points)\n",
    "    return points\n",
    "\n",
    "\n"
   ]
  }
 ],
 "metadata": {
  "kernelspec": {
   "display_name": "Python 3 (ipykernel)",
   "language": "python",
   "name": "python3"
  },
  "language_info": {
   "codemirror_mode": {
    "name": "ipython",
    "version": 3
   },
   "file_extension": ".py",
   "mimetype": "text/x-python",
   "name": "python",
   "nbconvert_exporter": "python",
   "pygments_lexer": "ipython3",
   "version": "3.10.9"
  },
  "vscode": {
   "interpreter": {
    "hash": "519c1f0673ba03a526f963f95f3579972f1ff9821eebfa23d7bc8438f630eba8"
   }
  }
 },
 "nbformat": 4,
 "nbformat_minor": 2
}
