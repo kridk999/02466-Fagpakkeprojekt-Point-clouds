{
 "cells": [
  {
   "cell_type": "code",
   "execution_count": 60,
   "metadata": {},
   "outputs": [],
   "source": [
    "import open3d as o3d\n",
    "import numpy as np\n",
    "import os\n",
    "from tqdm import tqdm\n",
    "from time import sleep"
   ]
  },
  {
   "attachments": {},
   "cell_type": "markdown",
   "metadata": {},
   "source": [
    "## Fix your path here"
   ]
  },
  {
   "cell_type": "code",
   "execution_count": 61,
   "metadata": {},
   "outputs": [],
   "source": [
    "filepath_kri = [\"/Users/kristofferkjaer/Desktop/SPRING_MALE\", \"/Users/kristofferkjaer/Desktop/mesh\"]"
   ]
  },
  {
   "cell_type": "code",
   "execution_count": 62,
   "metadata": {},
   "outputs": [
    {
     "name": "stderr",
     "output_type": "stream",
     "text": [
      "100%|██████████| 5/5 [00:02<00:00,  1.93it/s]\n",
      "100%|██████████| 5/5 [00:02<00:00,  2.03it/s]\n"
     ]
    }
   ],
   "source": [
    "data_paths = filepath_kri\n",
    "\n",
    "files = []\n",
    "pcds_females = []\n",
    "pcds_males = []\n",
    "pcds = [pcds_females, pcds_males]\n",
    "\n",
    "for data in range(len(data_paths)):\n",
    "    files = []\n",
    "    folder_to_view = data_paths[data]\n",
    "    list = pcds[data]\n",
    "    for file in os.listdir(folder_to_view):\n",
    "        files.append(file)\n",
    "    for i in tqdm(range(int((5)))):\n",
    "        sleep(0.0000000000001)\n",
    "        file = (folder_to_view + \"/\" + str(files[i]))\n",
    "        mesh = o3d.io.read_triangle_mesh(file)\n",
    "        pcd = mesh.sample_points_poisson_disk(2048)\n",
    "        list.append(pcd)"
   ]
  },
  {
   "cell_type": "markdown",
   "metadata": {},
   "source": [
    "### Converts mesh to point cloud and visualise"
   ]
  },
  {
   "cell_type": "code",
   "execution_count": 63,
   "metadata": {},
   "outputs": [],
   "source": [
    "def normalize(points): # The input of this function is a point cloud object\n",
    "    # This function normalizes a point cloud within a unit sphere\n",
    "    points = np.asarray(points.points) \n",
    "    centroid = np.mean(points, axis=0)\n",
    "    points -= centroid\n",
    "    furthest_distance = np.max(np.sqrt(np.sum(abs(points)**2,axis=-1)))\n",
    "    points /= furthest_distance\n",
    "    return points # The function return a numpy array of dimension nx3 where the points are normalized within a unit sphere\n"
   ]
  }
 ],
 "metadata": {
  "kernelspec": {
   "display_name": "Python 3 (ipykernel)",
   "language": "python",
   "name": "python3"
  },
  "language_info": {
   "codemirror_mode": {
    "name": "ipython",
    "version": 3
   },
   "file_extension": ".py",
   "mimetype": "text/x-python",
   "name": "python",
   "nbconvert_exporter": "python",
   "pygments_lexer": "ipython3",
   "version": "3.10.9"
  },
  "vscode": {
   "interpreter": {
    "hash": "519c1f0673ba03a526f963f95f3579972f1ff9821eebfa23d7bc8438f630eba8"
   }
  }
 },
 "nbformat": 4,
 "nbformat_minor": 2
}
